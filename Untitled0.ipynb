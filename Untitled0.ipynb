{
  "nbformat": 4,
  "nbformat_minor": 0,
  "metadata": {
    "colab": {
      "provenance": [],
      "authorship_tag": "ABX9TyOQJ3oS7yUOK3M1VTtAVGEW",
      "include_colab_link": true
    },
    "kernelspec": {
      "name": "python3",
      "display_name": "Python 3"
    },
    "language_info": {
      "name": "python"
    }
  },
  "cells": [
    {
      "cell_type": "markdown",
      "metadata": {
        "id": "view-in-github",
        "colab_type": "text"
      },
      "source": [
        "<a href=\"https://colab.research.google.com/github/Cayalam/graficadora_funciones/blob/main/Untitled0.ipynb\" target=\"_parent\"><img src=\"https://colab.research.google.com/assets/colab-badge.svg\" alt=\"Open In Colab\"/></a>"
      ]
    },
    {
      "cell_type": "markdown",
      "source": [
        "# Grafica de una funcion lineal"
      ],
      "metadata": {
        "id": "V1MChXidB0-K"
      }
    },
    {
      "cell_type": "code",
      "execution_count": 7,
      "metadata": {
        "id": "yb0vJeJZBys-"
      },
      "outputs": [],
      "source": [
        "# importamos la libreria matplotlib y numpy y le asignamos un alias\n",
        "import numpy as np\n",
        "import matplotlib.pyplot as pit\n",
        "def funcion_lineal(m,x,b):\n",
        "  return m*x+b"
      ]
    },
    {
      "cell_type": "code",
      "source": [
        "N =100\n",
        "print(\"-----------------------------\")\n",
        "print(\"----Funcion--- linel---------\")\n",
        "\n",
        "m= int(input(\"Digite el valor de la pendiente: \"))\n",
        "b= int(input(\"Digite el punto de corte en el eje y: \"))\n",
        "\n",
        "x=np.linspace(-10,10,num=N)\n",
        "y= funcion_lineal(m,b,x)\n",
        "\n",
        "pit.plot(x,y, color=\"r\")\n",
        "pit.xlabel(\"x\")\n",
        "pit.ylabel(\"y\")\n",
        "pit.title(\"Función lineal: y= mx+b\")\n",
        "pit.grid()\n",
        "pit.axhline(y=0, color=\"b\")\n",
        "pit.axvline(x=0, color=\"b\")\n",
        "pit.show()\n"
      ],
      "metadata": {
        "id": "LjKXvOGjCwgB"
      },
      "execution_count": null,
      "outputs": []
    },
    {
      "cell_type": "code",
      "source": [],
      "metadata": {
        "id": "K_Xyk4IdLKgY"
      },
      "execution_count": null,
      "outputs": []
    }
  ]
}