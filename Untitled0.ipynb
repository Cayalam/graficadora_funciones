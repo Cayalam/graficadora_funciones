{
  "nbformat": 4,
  "nbformat_minor": 0,
  "metadata": {
    "colab": {
      "provenance": [],
      "authorship_tag": "ABX9TyMo8OHDAySYhP8D1Wu6n6hQ",
      "include_colab_link": true
    },
    "kernelspec": {
      "name": "python3",
      "display_name": "Python 3"
    },
    "language_info": {
      "name": "python"
    }
  },
  "cells": [
    {
      "cell_type": "markdown",
      "metadata": {
        "id": "view-in-github",
        "colab_type": "text"
      },
      "source": [
        "<a href=\"https://colab.research.google.com/github/Cayalam/graficadora_funciones/blob/main/Untitled0.ipynb\" target=\"_parent\"><img src=\"https://colab.research.google.com/assets/colab-badge.svg\" alt=\"Open In Colab\"/></a>"
      ]
    },
    {
      "cell_type": "code",
      "execution_count": 14,
      "metadata": {
        "id": "P-z9uGpWLvyx"
      },
      "outputs": [],
      "source": [
        "# importamos la libreria matplotlib y numpy y le asignamos un alias\n",
        "import numpy as np\n",
        "import matplotlib.pyplot as plt\n",
        "def funcion_lineal(m,x,b):\n",
        "  return m*x+b"
      ]
    },
    {
      "cell_type": "code",
      "source": [
        "def funcion_cuadratica(a,b,x,c):\n",
        "  return a*x**2+b+c"
      ],
      "metadata": {
        "id": "zICqF2IbNTSx"
      },
      "execution_count": 8,
      "outputs": []
    },
    {
      "cell_type": "code",
      "source": [
        "N=100\n",
        "print(\"---------------------------\")\n",
        "print(\"-----Calculadora-de-funciones---\")\n",
        "print(\"----------------------------\")\n",
        "\n",
        "print(\"1. Funcion lineal\")\n",
        "print(\"2. Funcion cuadratica\")\n",
        "print(\"1. Funcion cubica\")\n",
        "print(\"1. Funcion exponencial\")\n",
        "print(\"1. Funcion logaritmica\")\n",
        "print(\"1. Funcion trigonometrica\")\n",
        "print(\"1. Funcion valor absoluto\")\n",
        "print(\"1. Funcion racional\")\n",
        "\n",
        "función= int(input(\"Ingresa la funcion que quieres realizar: \"))\n",
        "\n",
        "if función==1:\n",
        "  m = int(input(\"Digite el valor de la pendiente: \"))\n",
        "  b = int(input(\"Digite el valor del punto de corte con el eje y: \"))\n",
        "  x=np.linspace(-10,10,num=N)\n",
        "  y= funcion_lineal(m,b,x)\n",
        "  plt.plot(x,y, color = 'r')\n",
        "  plt.xlabel('x')\n",
        "  plt.ylabel('y')\n",
        "  plt.title('Función lineal: y = mx + b')\n",
        "  plt.grid()\n",
        "  plt.axhline(y=0, color= 'b')\n",
        "  plt.axvline(x=0, color= 'b')\n",
        "  plt.show()\n",
        "elif función==2:\n",
        "\n",
        "  N=100\n",
        "  def funcion_cuadratica(a,b,x,c):\n",
        "\n",
        "    return a*x**2+b+c\n",
        "  a = int(input(\"Digite el valor de a : \"))\n",
        "  b = int(input(\"Digite el valor de b: \"))\n",
        "  c = int(input(\"Digite el valor de c: \"))\n",
        "\n",
        "\n",
        " \n",
        "  x = np.linspace(-10,10,num=N)\n",
        "  y = funcion_cuadratica(a,b,x,c)\n",
        "\n",
        "  plt.plot(x,y,color=\"r\")\n",
        "  plt.xlabel(\"x\")\n",
        "  plt.ylabel(\"y\")\n",
        "  plt.title(\"Funcion cuadratica: y = ax^2 + bx + c\")\n",
        "  plt.grid()\n",
        "  plt.axhline(y=0, color=\"b\")\n",
        "  plt.axvline(x=0, color=\"b\")\n",
        "  plt.show()\n",
        "elif función==3:\n",
        "  N=100\n",
        "  def funcion_cubica(a,b,c,x,d):\n",
        "    return a*x**3+b*x**2+c*x+d\n",
        "  a = int(input(\"Digite el valor de a : \"))\n",
        "  b = int(input(\"Digite el valor de b: \"))\n",
        "  c = int(input(\"Digite el valor de c: \"))\n",
        "  d= int(input(\"Digite el valor de d: \"))\n",
        "\n",
        "\n",
        " \n",
        "  x = np.linspace(-10,10,num=N)\n",
        "  y = funcion_cubica(a,b,c,x,d)\n",
        "\n",
        "  plt.plot(x,y,color=\"r\")\n",
        "  plt.xlabel(\"x\")\n",
        "  plt.ylabel(\"y\")\n",
        "  plt.title(\"Funcion cubica: y = ax^3 + bx^2 + cx+d\")\n",
        "  plt.grid()\n",
        "  plt.axhline(y=0, color=\"b\")\n",
        "  plt.axvline(x=0, color=\"b\")\n",
        "  plt.show()\n",
        "elif función==4:\n",
        "  N=100\n",
        "  def funcion_exponencial(a,x):\n",
        "    return a**x\n",
        "  a= int(input(\"Digite el valor de a: \"))\n",
        "  x = np.linspace(-10,10,num=N)\n",
        "  y = funcion_exponencial(a,x)\n",
        "\n",
        "  plt.plot(x,color=\"r\")\n",
        "  plt.xlabel(\"x\")\n",
        "  plt.ylabel(\"y\")\n",
        "  plt.title(\"Funcion exponencial: y = a^x\")\n",
        "  plt.grid()\n",
        "  plt.axhline(y=0, color=\"b\")\n",
        "  plt.axvline(x=0, color=\"b\")\n",
        "  plt.show()\n",
        "\n",
        "\n",
        "\n",
        "\n",
        "\n"
      ],
      "metadata": {
        "id": "GaTuTsYWN7e0"
      },
      "execution_count": null,
      "outputs": []
    }
  ]
}